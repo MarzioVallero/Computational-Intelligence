{
  "nbformat": 4,
  "nbformat_minor": 0,
  "metadata": {
    "colab": {
      "name": "sudoku - Marzio Vallero - s286312.ipynb",
      "provenance": [],
      "collapsed_sections": []
    },
    "kernelspec": {
      "name": "python3",
      "display_name": "Python 3"
    },
    "language_info": {
      "name": "python"
    }
  },
  "cells": [
    {
      "cell_type": "code",
      "metadata": {
        "id": "fd0_mFV2aKTT"
      },
      "source": [
        "import numpy as np\n",
        "from itertools import groupby\n",
        "from operator import itemgetter\n",
        "import time\n",
        "from google.colab import output\n",
        "import sys"
      ],
      "execution_count": null,
      "outputs": []
    },
    {
      "cell_type": "code",
      "metadata": {
        "id": "Yec1D2_AvziP"
      },
      "source": [
        "def duplicates(x):\n",
        "  return np.sum(x) != np.sum(np.unique(x))\n",
        "\n",
        "def valid(sudoku):\n",
        "  return not any((duplicates(sudoku[r,:]) for r in range(0, 9)) or (duplicates(sudoku[:,c]) for c in range(0, 9)) or (duplicates(sudoku[r:r+3,c:c+3]) for r in range(0, 9, 3) for c in range(0, 9, 3)) )\n",
        "  \n",
        "def is_solved(sudoku):\n",
        "  return valid(sudoku) and sudoku.sum() == (45*9)\n",
        "\n",
        "def print_sudoku(sudoku):\n",
        "    print(\"+-------+-------+-------+\")\n",
        "    for b in range(0, 9, 3):\n",
        "        for r in range(3):\n",
        "            print(\"|\", \" | \".join(\" \".join(str(_) for _ in sudoku[b+r, c:c+3]) for c in range(0, 9, 3)), \"|\")\n",
        "        print(\"+-------+-------+-------+\")\n",
        "\n",
        "def possible_values(sudoku, r, c):\n",
        "  rem = sudoku[r,:]\n",
        "  rem = np.append(rem, sudoku[:, c])\n",
        "  rem = np.append(rem, sudoku[(r//3)*3:(r//3)*3+3, (c//3)*3:(c//3)*3+3])\n",
        "  return [value for value in range(1,10) if value not in rem]\n",
        "\n",
        "def exclusive(map, r, c):\n",
        "  grid = [(row, col) for row in range((r//3)*3,(r//3)*3+3) for col in range((c//3)*3, (c//3)*3+3) if (row, col) != (r, c) ]\n",
        "  p1 = [t[1] for t in map if t[0] in grid]\n",
        "  notBoxExclusive = np.unique([y for x in p1 for y in x])\n",
        "  #print(\"notBoxExclusive = \", notBoxExclusive)\n",
        "  p2 = [t[1] for t in map if (t[0] != (r, c)) and ( (t[0][0] == r) or (t[0][1] == c) ) ]\n",
        "  NotColRowExclusive = np.unique([y for x in p2 for y in x])\n",
        "  #print(\"NotColRowExclusive = \", NotColRowExclusive)\n",
        "  allowed = [n for pos, val in map for n in val if pos == (r, c)]\n",
        "  #print(\"allowed = \", allowed)\n",
        "  ret = [value for value in range(1, 10) if (value in allowed) and ((value not in notBoxExclusive) or (value not in NotColRowExclusive) )]\n",
        "  return ret\n",
        "\n",
        "def purge(map) :\n",
        "  newMap = []\n",
        "  for pos, values in map :\n",
        "    r = pos[0]\n",
        "    c = pos[1]\n",
        "    gridNotRow = [(row, col) for row in range((r//3)*3,(r//3)*3+3) for col in range((c//3)*3, (c//3)*3+3) if row != r ]\n",
        "    p1 = [t[1] for t in map if t[0] in gridNotRow] \n",
        "    notBoxRowExclusive = np.unique([y for x in p1 for y in x])\n",
        "    #print(\"notBoxRowExclusive = \", notBoxRowExclusive)\n",
        "    gridNotCol = [(row, col) for row in range((r//3)*3,(r//3)*3+3) for col in range((c//3)*3, (c//3)*3+3) if col != c ]\n",
        "    p2 = [t[1] for t in map if t[0] in gridNotCol]\n",
        "    notBoxColExclusive = np.unique([y for x in p2 for y in x])\n",
        "    #print(\"notBoxColExclusive = \", notBoxColExclusive)\n",
        "    allowed = [n for pos, val in map for n in val if pos == (r, c)]\n",
        "    #print(\"allowed = \", allowed)\n",
        "    retRow = [value for value in range(1, 10) if (value in allowed) and (value not in notBoxRowExclusive)]\n",
        "    retCol = [value for value in range(1, 10) if (value in allowed) and (value not in notBoxColExclusive)]\n",
        "    #print(\"retRow = \", retRow)\n",
        "    #print(\"retCol = \", retCol)\n",
        "    #print(map)\n",
        "    for pos, values in map :\n",
        "      if(pos[0] == r and pos[1] not in range((c//3)*3, (c//3)*3+3)) :\n",
        "        try:\n",
        "          values = [ v for v in values if v not in retRow]\n",
        "        except ValueError:\n",
        "          pass\n",
        "      if(pos[0] not in range((r//3)*3,(r//3)*3+3) and pos[1] == c) :\n",
        "        try:\n",
        "          values = [ v for v in values if v not in retCol]\n",
        "        except ValueError:\n",
        "          pass\n",
        "      newMap.append((pos, values))\n",
        "    #print(newMap)\n",
        "  return newMap\n",
        "\n",
        "def collisions(oners):\n",
        "  #print(oners)\n",
        "  for pos, values in oners :\n",
        "    #print(pos)\n",
        "    r = pos[0]\n",
        "    c = pos[1]\n",
        "    gridSameRow = [(pos[0], col) for col in range((c//3)*3, (c//3)*3+3) if col != c]\n",
        "    p1 = [n for t in oners for n in t[1] if t[0] in gridSameRow]\n",
        "    #print(\"p1 = \", p1)\n",
        "    gridSameCol = [(row, pos[1]) for row in range((r//3)*3, (r//3)*3+3) if row != r]\n",
        "    p2 = [n for t in oners for n in t[1] if t[0] in gridSameCol]\n",
        "    #print(\"p2 = \", p2)\n",
        "    if(values[0] not in p1 and values[0] not in p2):\n",
        "      return False\n",
        "  #print(newOners)\n",
        "  return True"
      ],
      "execution_count": null,
      "outputs": []
    },
    {
      "cell_type": "code",
      "metadata": {
        "id": "x9vKTdYSFbVv"
      },
      "source": [
        "def solve(sudoku):\n",
        "  #output.clear()\n",
        "  #print(f\"{sudoku}\")\n",
        "  #sys.stdout.flush()\n",
        "  global counter, stop\n",
        "  counter += 1\n",
        "  map = sorted(((k, list(list(zip(*g))[2])) for k, g in groupby([(r, c, n) for r in range(9) for c in range(9) for n in possible_values(sudoku, r, c) if sudoku[r,c] == 0], itemgetter(0, 1))), key=lambda t: len(t[1]))\n",
        "  l = len(map)\n",
        "  p =  np.count_nonzero(sudoku == 0)\n",
        "  #print(f\"len(map) = {l}, noz_zero = {p}\")\n",
        "  if l == 0 or p == 0 or l != p :\n",
        "    #print(\"Dead end!\")\n",
        "    #print(f\"{sudoku}\")\n",
        "    return 1\n",
        "  oners = [o for o in map if len(o[1]) == 1]\n",
        "  if(oners and collisions(oners)):\n",
        "    return\n",
        "  else :\n",
        "    for pos, values in oners :\n",
        "      sudoku[pos] = values[0]\n",
        "  if(not valid(sudoku)):\n",
        "    #print(f\"Invalid sudoku\")\n",
        "    #print(oners)\n",
        "    return 2\n",
        "  elif (0 not in sudoku and is_solved(sudoku)):\n",
        "    print(f\"Solution found at {counter}-th iteration:\")\n",
        "    print_sudoku(sudoku)\n",
        "    stop = True\n",
        "    return\n",
        "  elif len(oners) != 0:\n",
        "    solve(sudoku)\n",
        "    if (stop):\n",
        "      return\n",
        "  else : \n",
        "    map2 = ((k, list(list(zip(*g))[2])) for k, g in groupby([(pos[0], pos[1], rem) for pos, values in map for rem in exclusive(map, pos[0], pos[1])], itemgetter(0, 1)))\n",
        "    map2 = [o for o in map2 if len(o[1]) == 1]\n",
        "    #print(map2)\n",
        "    if(len(map2) != 0) :\n",
        "      for pos, values in map2 :\n",
        "        sudoku[pos] = values[0]\n",
        "      solve(sudoku)\n",
        "      if (stop):\n",
        "        return\n",
        "    else :\n",
        "    #  print(map2)\n",
        "      map = purge(map)\n",
        "      #map = [(pos, n) for pos, values in map for n in values]\n",
        "      for pos, values in map :\n",
        "        for n in values :\n",
        "          sudoku[pos] = n\n",
        "          if (valid(sudoku)) :\n",
        "            r = solve(sudoku)\n",
        "            if(r == 1) :\n",
        "              #print(\"Dead end!\")\n",
        "              sudoku[pos] = 0\n",
        "              #break\n",
        "            elif(r == 2) :\n",
        "              #print(\"Invalid sudoku!\")\n",
        "              sudoku[pos] = 0\n",
        "              #print(\"sudoku valid = \", valid(sudoku), r)\n",
        "              return\n",
        "            if (stop):\n",
        "              return\n",
        "          else :\n",
        "            sudoku[pos] = 0"
      ],
      "execution_count": null,
      "outputs": []
    },
    {
      "cell_type": "code",
      "metadata": {
        "colab": {
          "base_uri": "https://localhost:8080/"
        },
        "id": "I4IaRMZKY087",
        "outputId": "30eb5eda-1b0f-46ed-bc81-1f8f98f0eb84"
      },
      "source": [
        "## Test on Simple Sudoku, very fast\n",
        "sudoku = np.array([[6, 0, 4,    0, 7, 0,    0, 0, 1],\n",
        "                   [0, 5, 0,    0, 0, 0,    0, 7, 0], \n",
        "                   [7, 0, 0,    5, 9, 6,    8, 3, 4], \n",
        " \n",
        "                   [0, 8, 0,    0, 0, 2,    4, 9, 0], \n",
        "                   [1, 0, 0,    0, 0, 0,    0, 0, 3], \n",
        "                   [0, 6, 9,    7, 0, 0,    0, 5, 0], \n",
        " \n",
        "                   [9, 1, 8,    3, 6, 7,    0, 0, 5], \n",
        "                   [0, 4, 0,    0, 0, 0,    0, 6, 0], \n",
        "                   [2, 0, 0,    0, 5, 0,    7, 0, 8]], dtype=np.int8)\n",
        "\n",
        "counter = 0\n",
        "stop = False\n",
        "\n",
        "t1 = time.perf_counter()\n",
        "solve(sudoku)\n",
        "t2 = time.perf_counter()\n",
        "print(\"Time taken to run:\", t2-t1, \"seconds\")"
      ],
      "execution_count": null,
      "outputs": [
        {
          "output_type": "stream",
          "name": "stdout",
          "text": [
            "[((0, 7), [2]), ((2, 1), [2]), ((5, 8), [2]), ((6, 6), [2]), ((8, 1), [3]), ((0, 3), [2, 8]), ((0, 5), [3, 8]), ((1, 0), [3, 8]), ((2, 2), [1, 2]), ((3, 0), [3, 5]), ((3, 3), [1, 6]), ((3, 4), [1, 3]), ((3, 8), [6, 7]), ((4, 1), [2, 7]), ((4, 4), [4, 8]), ((4, 6), [2, 6]), ((4, 7), [2, 8]), ((5, 0), [3, 4]), ((5, 6), [1, 2]), ((6, 7), [2, 4]), ((7, 0), [3, 5]), ((7, 8), [2, 9]), ((8, 2), [3, 6]), ((8, 7), [1, 4]), ((0, 1), [2, 3, 9]), ((0, 6), [2, 5, 9]), ((1, 2), [1, 2, 3]), ((1, 6), [2, 6, 9]), ((1, 8), [2, 6, 9]), ((3, 2), [3, 5, 7]), ((4, 2), [2, 5, 7]), ((7, 2), [3, 5, 7]), ((7, 4), [1, 2, 8]), ((7, 5), [1, 8, 9]), ((8, 3), [1, 4, 9]), ((8, 5), [1, 4, 9]), ((1, 3), [1, 2, 4, 8]), ((1, 5), [1, 3, 4, 8]), ((4, 3), [4, 6, 8, 9]), ((4, 5), [4, 5, 8, 9]), ((5, 4), [1, 3, 4, 8]), ((5, 5), [1, 3, 4, 8]), ((7, 3), [1, 2, 8, 9]), ((7, 6), [1, 2, 3, 9]), ((1, 4), [1, 2, 3, 4, 8])]\n",
            "[((0, 1), [9]), ((0, 3), [8]), ((2, 2), [1]), ((4, 1), [7]), ((4, 6), [6]), ((4, 7), [8]), ((5, 6), [1]), ((6, 7), [4]), ((7, 0), [5]), ((7, 8), [9]), ((8, 2), [6]), ((0, 5), [3, 8]), ((0, 6), [5, 9]), ((1, 0), [3, 8]), ((1, 2), [1, 3]), ((1, 6), [6, 9]), ((1, 8), [6, 9]), ((3, 0), [3, 5]), ((3, 3), [1, 6]), ((3, 4), [1, 3]), ((3, 8), [6, 7]), ((4, 4), [4, 8]), ((5, 0), [3, 4]), ((7, 2), [5, 7]), ((8, 7), [1, 4]), ((3, 2), [3, 5, 7]), ((4, 2), [2, 5, 7]), ((7, 4), [1, 2, 8]), ((7, 5), [1, 8, 9]), ((7, 6), [1, 3, 9]), ((8, 3), [1, 4, 9]), ((8, 5), [1, 4, 9]), ((1, 3), [1, 2, 4, 8]), ((1, 5), [1, 3, 4, 8]), ((4, 3), [4, 6, 8, 9]), ((4, 5), [4, 5, 8, 9]), ((5, 4), [1, 3, 4, 8]), ((5, 5), [1, 3, 4, 8]), ((7, 3), [1, 2, 8, 9]), ((1, 4), [1, 2, 3, 4, 8])]\n",
            "[((0, 5), [3]), ((0, 6), [5]), ((1, 2), [3]), ((1, 6), [9]), ((1, 8), [6]), ((3, 0), [3]), ((3, 8), [7]), ((4, 4), [4]), ((7, 2), [7]), ((7, 6), [3]), ((8, 7), [1]), ((1, 0), [3, 8]), ((3, 2), [3, 5]), ((3, 3), [1, 6]), ((3, 4), [1, 3]), ((4, 2), [2, 5]), ((4, 3), [4, 9]), ((5, 0), [3, 4]), ((7, 3), [1, 2]), ((7, 5), [1, 8]), ((1, 3), [1, 2, 4]), ((1, 5), [1, 3, 4]), ((4, 5), [4, 5, 9]), ((5, 4), [3, 4, 8]), ((5, 5), [3, 4, 8]), ((7, 4), [1, 2, 8]), ((8, 3), [1, 4, 9]), ((8, 5), [1, 4, 9]), ((1, 4), [1, 2, 3, 4])]\n",
            "[((1, 0), [8]), ((3, 2), [5]), ((3, 4), [1]), ((4, 3), [9]), ((5, 0), [4]), ((5, 5), [8]), ((1, 4), [1, 2]), ((1, 5), [1, 4]), ((3, 3), [1, 6]), ((4, 2), [2, 5]), ((4, 5), [5, 9]), ((5, 4), [3, 8]), ((7, 3), [1, 2]), ((7, 5), [1, 8]), ((8, 3), [4, 9]), ((8, 5), [4, 9]), ((1, 3), [1, 2, 4]), ((7, 4), [1, 2, 8])]\n",
            "[((1, 4), [2]), ((3, 3), [6]), ((4, 2), [2]), ((4, 5), [5]), ((5, 4), [3]), ((7, 5), [1]), ((8, 3), [4]), ((1, 5), [1, 4]), ((7, 3), [1, 2]), ((7, 4), [2, 8]), ((8, 5), [4, 9]), ((1, 3), [1, 2, 4])]\n",
            "[((1, 3), [1]), ((1, 5), [4]), ((7, 3), [2]), ((7, 4), [8]), ((8, 5), [9])]\n",
            "Solution found at 6-th iteration:\n",
            "+-------+-------+-------+\n",
            "| 6 9 4 | 8 7 3 | 5 2 1 |\n",
            "| 8 5 3 | 1 2 4 | 9 7 6 |\n",
            "| 7 2 1 | 5 9 6 | 8 3 4 |\n",
            "+-------+-------+-------+\n",
            "| 3 8 5 | 6 1 2 | 4 9 7 |\n",
            "| 1 7 2 | 9 4 5 | 6 8 3 |\n",
            "| 4 6 9 | 7 3 8 | 1 5 2 |\n",
            "+-------+-------+-------+\n",
            "| 9 1 8 | 3 6 7 | 2 4 5 |\n",
            "| 5 4 7 | 2 8 1 | 3 6 9 |\n",
            "| 2 3 6 | 4 5 9 | 7 1 8 |\n",
            "+-------+-------+-------+\n",
            "Time taken to run: 0.035170037999989745 seconds\n"
          ]
        }
      ]
    },
    {
      "cell_type": "code",
      "metadata": {
        "id": "_AVFPxWCOivf"
      },
      "source": [
        "## Imported for compatibility reasons\n",
        "def _contains_duplicates(X):\n",
        "    return np.sum(np.unique(X)) != np.sum(X)\n",
        "\n",
        "def contains_duplicates(sol):\n",
        "    return any(_contains_duplicates(sol[r,:]) for r in range(9)) or \\\n",
        "           any(_contains_duplicates(sol[:,r]) for r in range(9)) or \\\n",
        "           any(_contains_duplicates(sol[r:r+3:,c:c+3]) for r in range(0,9,3) for c in range(0,9,3))\n",
        "\n",
        "def sudoku_generator(sudokus=1, *, kappa=5, random_seed=None):\n",
        "    if random_seed:\n",
        "        np.random.seed(random_seed)\n",
        "    for puzzle in range(sudokus):\n",
        "        sudoku = np.zeros((9, 9), dtype=np.int8)\n",
        "        for cell in range(np.random.randint(kappa)):\n",
        "            for p, val in zip(np.random.randint(0, 8, size=(9, 2)), range(1, 10)):\n",
        "                tmp = sudoku.copy()\n",
        "                sudoku[tuple(p)] = val\n",
        "                if contains_duplicates(sudoku):\n",
        "                    sudoku = tmp\n",
        "        yield sudoku.copy()"
      ],
      "execution_count": null,
      "outputs": []
    },
    {
      "cell_type": "code",
      "metadata": {
        "id": "umvlx_LxOoE0",
        "colab": {
          "base_uri": "https://localhost:8080/"
        },
        "outputId": "3327a661-ac8b-42b4-ad74-e41ef3b23a7b"
      },
      "source": [
        "for sudoku in sudoku_generator(sudokus=1, random_seed=42):\n",
        "    counter = 0\n",
        "    stop = False\n",
        "    print_sudoku(sudoku)\n",
        "    print(\"Number of clues = \", np.count_nonzero(sudoku))\n",
        "    t1 = time.perf_counter()\n",
        "    solve(sudoku)\n",
        "    t2 = time.perf_counter()\n",
        "    print(\"Time taken to run:\", t2-t1, \"seconds\")"
      ],
      "execution_count": null,
      "outputs": [
        {
          "output_type": "stream",
          "name": "stdout",
          "text": [
            "+-------+-------+-------+\n",
            "| 0 0 1 | 0 0 0 | 0 0 0 |\n",
            "| 0 0 0 | 0 0 0 | 0 3 0 |\n",
            "| 0 0 6 | 8 0 0 | 5 2 0 |\n",
            "+-------+-------+-------+\n",
            "| 9 7 0 | 4 0 0 | 0 8 0 |\n",
            "| 6 0 0 | 0 3 0 | 1 0 0 |\n",
            "| 0 0 0 | 0 8 6 | 0 0 0 |\n",
            "+-------+-------+-------+\n",
            "| 0 4 0 | 9 0 0 | 0 0 0 |\n",
            "| 0 0 9 | 5 7 0 | 0 0 0 |\n",
            "| 0 0 0 | 0 0 0 | 0 0 0 |\n",
            "+-------+-------+-------+\n",
            "Number of clues =  20\n",
            "Solution found at 126-th iteration:\n",
            "+-------+-------+-------+\n",
            "| 7 9 1 | 3 2 5 | 8 6 4 |\n",
            "| 5 2 8 | 6 9 4 | 7 3 1 |\n",
            "| 4 3 6 | 8 1 7 | 5 2 9 |\n",
            "+-------+-------+-------+\n",
            "| 9 7 2 | 4 5 1 | 3 8 6 |\n",
            "| 6 8 4 | 2 3 9 | 1 5 7 |\n",
            "| 1 5 3 | 7 8 6 | 4 9 2 |\n",
            "+-------+-------+-------+\n",
            "| 3 4 7 | 9 6 8 | 2 1 5 |\n",
            "| 2 1 9 | 5 7 3 | 6 4 8 |\n",
            "| 8 6 5 | 1 4 2 | 9 7 3 |\n",
            "+-------+-------+-------+\n",
            "Time taken to run: 1.1370337390000032 seconds\n"
          ]
        }
      ]
    },
    {
      "cell_type": "code",
      "metadata": {
        "colab": {
          "base_uri": "https://localhost:8080/"
        },
        "id": "DYOeTqZxeEng",
        "outputId": "f9691d26-fa05-4f49-b902-bda9bc25c996"
      },
      "source": [
        "## Validation Test\n",
        "sudoku = np.array([[0, 7, 0,   4, 0, 5,   0, 0, 9],\n",
        "                   [0, 0, 0,   0, 2, 0,   4, 0, 0], \n",
        "                   [0, 0, 5,   0, 6, 0,   0, 0, 0], \n",
        "  \n",
        "                   [0, 0, 0,   0, 5, 0,   0, 0, 0], \n",
        "                   [0, 0, 7,   3, 0, 1,   6, 0, 0], \n",
        "                   [0, 9, 0,   0, 0, 0,   0, 8, 0], \n",
        "                    \n",
        "                   [0, 0, 0,   2, 0, 0,   0, 0, 0], \n",
        "                   [3, 0, 0,   0, 0, 0,   0, 0, 6], \n",
        "                   [0, 0, 1,   7, 0, 4,   3, 0, 0]], dtype=np.int8)\n",
        "\n",
        "counter = 0\n",
        "stop = False\n",
        "t1 = time.perf_counter()\n",
        "solve(sudoku)\n",
        "t2 = time.perf_counter()\n",
        "print(\"Time taken to run:\", t2-t1, \"seconds\")"
      ],
      "execution_count": null,
      "outputs": [
        {
          "output_type": "stream",
          "name": "stdout",
          "text": [
            "Solution found at 302-th iteration:\n",
            "+-------+-------+-------+\n",
            "| 1 7 3 | 4 8 5 | 2 6 9 |\n",
            "| 9 8 6 | 1 2 7 | 4 3 5 |\n",
            "| 4 2 5 | 9 6 3 | 8 1 7 |\n",
            "+-------+-------+-------+\n",
            "| 6 3 2 | 8 5 9 | 1 7 4 |\n",
            "| 8 5 7 | 3 4 1 | 6 9 2 |\n",
            "| 1 9 4 | 6 7 2 | 5 8 3 |\n",
            "+-------+-------+-------+\n",
            "| 7 4 8 | 2 3 6 | 9 5 1 |\n",
            "| 3 2 9 | 5 1 8 | 7 4 6 |\n",
            "| 5 6 1 | 7 9 4 | 3 2 8 |\n",
            "+-------+-------+-------+\n",
            "Time taken to run: 1.5060989360000008 seconds\n"
          ]
        }
      ]
    },
    {
      "cell_type": "code",
      "metadata": {
        "colab": {
          "base_uri": "https://localhost:8080/"
        },
        "id": "Otcsm-fYfDP9",
        "outputId": "97c0e087-8bdb-4486-e51d-7f6a73547d8b"
      },
      "source": [
        "sudoku\n",
        "counter\n"
      ],
      "execution_count": null,
      "outputs": [
        {
          "output_type": "execute_result",
          "data": {
            "text/plain": [
              "122"
            ]
          },
          "metadata": {},
          "execution_count": 16
        }
      ]
    },
    {
      "cell_type": "code",
      "metadata": {
        "id": "hCYvo7PzfGA5"
      },
      "source": [
        ""
      ],
      "execution_count": null,
      "outputs": []
    }
  ]
}
